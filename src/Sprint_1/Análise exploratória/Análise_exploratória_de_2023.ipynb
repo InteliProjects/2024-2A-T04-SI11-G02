{
  "cells": [
    {
      "cell_type": "markdown",
      "metadata": {
        "id": "NZaeyvkriICQ"
      },
      "source": [
        "## Instalações"
      ]
    },
    {
      "cell_type": "code",
      "source": [
        "pip install gdown"
      ],
      "metadata": {
        "colab": {
          "base_uri": "https://localhost:8080/"
        },
        "id": "C0W3Js8tzuWO",
        "outputId": "8e3a4a28-8574-450c-a168-8c5cd9e447f5"
      },
      "execution_count": 1,
      "outputs": [
        {
          "output_type": "stream",
          "name": "stdout",
          "text": [
            "Requirement already satisfied: gdown in /usr/local/lib/python3.10/dist-packages (5.1.0)\n",
            "Requirement already satisfied: beautifulsoup4 in /usr/local/lib/python3.10/dist-packages (from gdown) (4.12.3)\n",
            "Requirement already satisfied: filelock in /usr/local/lib/python3.10/dist-packages (from gdown) (3.15.4)\n",
            "Requirement already satisfied: requests[socks] in /usr/local/lib/python3.10/dist-packages (from gdown) (2.32.3)\n",
            "Requirement already satisfied: tqdm in /usr/local/lib/python3.10/dist-packages (from gdown) (4.66.5)\n",
            "Requirement already satisfied: soupsieve>1.2 in /usr/local/lib/python3.10/dist-packages (from beautifulsoup4->gdown) (2.6)\n",
            "Requirement already satisfied: charset-normalizer<4,>=2 in /usr/local/lib/python3.10/dist-packages (from requests[socks]->gdown) (3.3.2)\n",
            "Requirement already satisfied: idna<4,>=2.5 in /usr/local/lib/python3.10/dist-packages (from requests[socks]->gdown) (3.7)\n",
            "Requirement already satisfied: urllib3<3,>=1.21.1 in /usr/local/lib/python3.10/dist-packages (from requests[socks]->gdown) (2.0.7)\n",
            "Requirement already satisfied: certifi>=2017.4.17 in /usr/local/lib/python3.10/dist-packages (from requests[socks]->gdown) (2024.7.4)\n",
            "Requirement already satisfied: PySocks!=1.5.7,>=1.5.6 in /usr/local/lib/python3.10/dist-packages (from requests[socks]->gdown) (1.7.1)\n"
          ]
        }
      ]
    },
    {
      "cell_type": "code",
      "execution_count": 2,
      "metadata": {
        "id": "AlEtlVPvb4Zr"
      },
      "outputs": [],
      "source": [
        "import numpy as np\n",
        "import matplotlib.pyplot as plt\n",
        "import matplotlib.cm as cm\n",
        "import pandas as pd\n",
        "import seaborn as sb\n",
        "import plotly.express as px\n",
        "import plotly.graph_objects as go\n",
        "import seaborn as sns\n",
        "import matplotlib.pyplot as plt"
      ]
    },
    {
      "cell_type": "markdown",
      "metadata": {
        "id": "mgtcYc6RarEn"
      },
      "source": [
        "## Importação dos dados"
      ]
    },
    {
      "cell_type": "markdown",
      "source": [
        "Os dados de consumo de água e fraudes foram obtidos de arquivos CSV e importados diretamente para o Google Colab. O Google Drive foi utilizado como repositório para esses arquivos, facilitando o acesso e a manipulação dos dados."
      ],
      "metadata": {
        "id": "D31m_fcr7Hdi"
      }
    },
    {
      "cell_type": "code",
      "source": [
        "!gdown 1VqnuZFz0bytf5kPoo4wS5kRTsIwJZGC4"
      ],
      "metadata": {
        "colab": {
          "base_uri": "https://localhost:8080/"
        },
        "id": "hYlp9Moqz4qz",
        "outputId": "e97b8569-3141-4877-b1be-f37d1d567c4f"
      },
      "execution_count": 6,
      "outputs": [
        {
          "output_type": "stream",
          "name": "stdout",
          "text": [
            "Downloading...\n",
            "From (original): https://drive.google.com/uc?id=1VqnuZFz0bytf5kPoo4wS5kRTsIwJZGC4\n",
            "From (redirected): https://drive.google.com/uc?id=1VqnuZFz0bytf5kPoo4wS5kRTsIwJZGC4&confirm=t&uuid=ef63f500-bcb1-4fa9-98ad-a92d956fdc1a\n",
            "To: /content/CONSUMO_2023.zip\n",
            "100% 221M/221M [00:01<00:00, 139MB/s]\n"
          ]
        }
      ]
    },
    {
      "cell_type": "code",
      "source": [
        "!gdown 1X8B08S8HomStfeVsLHfxgGQIq1Xugu1D"
      ],
      "metadata": {
        "colab": {
          "base_uri": "https://localhost:8080/"
        },
        "id": "dmYrFtEd3oY8",
        "outputId": "0fac98b6-37d6-4ce2-b5c6-cd4129288d68"
      },
      "execution_count": 7,
      "outputs": [
        {
          "output_type": "stream",
          "name": "stdout",
          "text": [
            "Downloading...\n",
            "From: https://drive.google.com/uc?id=1X8B08S8HomStfeVsLHfxgGQIq1Xugu1D\n",
            "To: /content/FRAUDES_HIST.zip\n",
            "100% 19.5M/19.5M [00:00<00:00, 26.0MB/s]\n"
          ]
        }
      ]
    },
    {
      "cell_type": "code",
      "execution_count": null,
      "metadata": {
        "id": "YjnhAUrWatSI"
      },
      "outputs": [],
      "source": [
        "consumo_2023 = pd.read_csv('/content/CONSUMO_2023.zip', delimiter=';')\n",
        "fraudes = pd.read_csv('/content/FRAUDES_HIST.zip', delimiter=';')"
      ]
    },
    {
      "cell_type": "markdown",
      "metadata": {
        "id": "qBOkU9WuiG0Q"
      },
      "source": [
        "## Análise exploratória dos dados de fraudes e consumo"
      ]
    },
    {
      "cell_type": "markdown",
      "source": [
        "Nesta seção, realizamos uma análise exploratória inicial para entender melhor os dados de consumo e fraudes. A análise incluiu a verificação da estrutura dos dados, identificação de valores únicos e o tratamento de valores ausentes."
      ],
      "metadata": {
        "id": "PijWunxl7c6H"
      }
    },
    {
      "cell_type": "markdown",
      "metadata": {
        "id": "819qYz8lhldQ"
      },
      "source": [
        "## Dados de consumo"
      ]
    },
    {
      "cell_type": "markdown",
      "source": [
        "\n",
        "1. **Número de registros e variáveis**: Analisamos o número de linhas e colunas para entender a dimensão dos dados.\n",
        "\n",
        "2. **Exceções e ocorrências:** Investigamos valores únicos em colunas específicas como 'EXCECAO', 'DSC_SIMULTANEA', 'CATEGORIA' e 'DSC_OCORRENCIA' para identificar padrões ou anomalias.\n",
        "\n",
        "3. **Tipos de dados e valores nulos**: Verificamos os tipos de dados e a presença de valores nulos, que são essenciais para preparar os dados para a análise."
      ],
      "metadata": {
        "id": "PFALfOgy7ixu"
      }
    },
    {
      "cell_type": "code",
      "execution_count": null,
      "metadata": {
        "id": "u3fa7qj5cz1f"
      },
      "outputs": [],
      "source": [
        "consumo_2023.shape"
      ]
    },
    {
      "cell_type": "code",
      "execution_count": null,
      "metadata": {
        "id": "1hjLRvbehW7W"
      },
      "outputs": [],
      "source": [
        "consumo_2023.dtypes"
      ]
    },
    {
      "cell_type": "code",
      "execution_count": null,
      "metadata": {
        "id": "JnpQrwaThYiX"
      },
      "outputs": [],
      "source": [
        "consumo_2023.isnull().sum()"
      ]
    },
    {
      "cell_type": "code",
      "execution_count": null,
      "metadata": {
        "id": "Wt5pN17mhah3"
      },
      "outputs": [],
      "source": [
        "consumo_2023.describe()"
      ]
    },
    {
      "cell_type": "code",
      "execution_count": null,
      "metadata": {
        "id": "W60yfXJshcxM"
      },
      "outputs": [],
      "source": [
        "consumo_2023.info()"
      ]
    },
    {
      "cell_type": "code",
      "execution_count": null,
      "metadata": {
        "id": "OGzPIW76hfIk"
      },
      "outputs": [],
      "source": [
        "consumo_2023.columns"
      ]
    },
    {
      "cell_type": "code",
      "execution_count": null,
      "metadata": {
        "id": "b-hUPvBWjipN"
      },
      "outputs": [],
      "source": [
        "consumo_2023['EXCECAO'].unique()\n",
        "# se a pessoa é isenta de agua e esgoto, há a possibilidade de estar fraudando algo? O que leva alguém a ser isento de agua e esgoto?"
      ]
    },
    {
      "cell_type": "code",
      "execution_count": null,
      "metadata": {
        "id": "zJZHmNPkkDK2"
      },
      "outputs": [],
      "source": [
        "consumo_2023['DSC_SIMULTANEA'].unique()\n",
        "# o que leva uma conta de água ou esgoto a ser retida? O que caracteriza essa definição?"
      ]
    },
    {
      "cell_type": "code",
      "execution_count": null,
      "metadata": {
        "id": "WaybL4CMkrrs"
      },
      "outputs": [],
      "source": [
        "consumo_2023['CATEGORIA'].unique()"
      ]
    },
    {
      "cell_type": "code",
      "execution_count": null,
      "metadata": {
        "id": "-7fNPL9Z2mGZ"
      },
      "outputs": [],
      "source": [
        "consumo_2023['DSC_OCORRENCIA'].unique()"
      ]
    },
    {
      "cell_type": "markdown",
      "metadata": {
        "id": "wTct6ig9lh1P"
      },
      "source": [
        "## Dados de fraudes"
      ]
    },
    {
      "cell_type": "markdown",
      "source": [
        "**1. Estrutura dos dados:** Análise do formato dos dados de fraudes, incluindo a verificação do número de registros, tipos de dados e valores nulos.\n",
        "\n",
        "**2. Resumo estatístico:** Geração de estatísticas descritivas para entender melhor a distribuição dos dados."
      ],
      "metadata": {
        "id": "96IiLXcZ8W6W"
      }
    },
    {
      "cell_type": "code",
      "execution_count": null,
      "metadata": {
        "id": "kNlHeUkUll2c"
      },
      "outputs": [],
      "source": [
        "fraudes.shape"
      ]
    },
    {
      "cell_type": "code",
      "execution_count": null,
      "metadata": {
        "id": "VhVEpPCall2d"
      },
      "outputs": [],
      "source": [
        "fraudes.head()"
      ]
    },
    {
      "cell_type": "code",
      "execution_count": null,
      "metadata": {
        "id": "VxdnUC_Cll2f"
      },
      "outputs": [],
      "source": [
        "fraudes.dtypes"
      ]
    },
    {
      "cell_type": "code",
      "source": [
        "fraudes.describe()"
      ],
      "metadata": {
        "id": "PW8qp-9-4-K2"
      },
      "execution_count": null,
      "outputs": []
    },
    {
      "cell_type": "code",
      "execution_count": null,
      "metadata": {
        "id": "sQ-cxzJ-ll2s"
      },
      "outputs": [],
      "source": [
        "fraudes.info()"
      ]
    },
    {
      "cell_type": "code",
      "execution_count": null,
      "metadata": {
        "id": "RstD-bolll2t"
      },
      "outputs": [],
      "source": [
        "fraudes.columns"
      ]
    },
    {
      "cell_type": "markdown",
      "metadata": {
        "id": "Tv46R8AGnlC4"
      },
      "source": [
        "## Dados de consumo atrelados aos dados de fraudes"
      ]
    },
    {
      "cell_type": "markdown",
      "source": [
        "Para integrar os dados de consumo e fraudes, realizamos as seguintes etapas:\n",
        "\n",
        "**Filtragem de registros de 2023:** Selecionamos apenas os registros referentes ao ano de 2023 nos dados de fraudes.\n",
        "\n",
        "**Conversão de datas:** As colunas de datas foram convertidas para o formato datetime para facilitar as operações temporais.\n",
        "\n",
        "**Unificação dos dados:** Os dados de consumo e fraudes foram unidos usando as colunas MATRICULA e ANO_MES, e uma nova coluna fraude foi criada para indicar se uma fraude ocorreu ou não."
      ],
      "metadata": {
        "id": "-hPi8zXO8jJI"
      }
    },
    {
      "cell_type": "code",
      "execution_count": null,
      "metadata": {
        "id": "FX9-TKmbnoRH"
      },
      "outputs": [],
      "source": [
        "# Filtrar o DataFrame 'fraudes' para conter apenas registros de 2023\n",
        "fraudes_2023 = fraudes[fraudes['ANOMES'].str.endswith('23')]\n",
        "\n",
        "# Converter a coluna 'REFERENCIA' para datetime no DataFrame de consumo\n",
        "consumo_2023['REFERENCIA'] = pd.to_datetime(consumo_2023['REFERENCIA'], errors='coerce')\n",
        "\n",
        "# Converter a coluna 'ANOMES' do DataFrame de fraudes para datetime\n",
        "fraudes_2023['ANOMES'] = pd.to_datetime(fraudes_2023['ANOMES'], format='%m/%y', errors='coerce')\n",
        "\n",
        "# Criar a coluna 'ANO_MES' no DataFrame de consumo e fraudes para unificação\n",
        "consumo_2023['ANO_MES'] = consumo_2023['REFERENCIA'].dt.to_period('M').astype(str)\n",
        "fraudes_2023['ANO_MES'] = fraudes_2023['ANOMES'].dt.to_period('M').astype(str)\n",
        "\n",
        "# Realizar o merge entre o DataFrame de consumo e o de fraudes, utilizando as colunas 'MATRICULA' e 'ANO_MES'\n",
        "fraudes_consumo_2023 = consumo_2023.merge(fraudes_2023[['MATRICULA', 'ANO_MES']],\n",
        "                                          how='left',\n",
        "                                          on=['MATRICULA', 'ANO_MES'],\n",
        "                                          indicator=True)\n",
        "\n",
        "# Criar a coluna 'fraude' com base no merge:\n",
        "fraudes_consumo_2023['fraude'] = fraudes_consumo_2023['_merge'].apply(lambda x: 1 if x == 'both' else 0)\n",
        "\n",
        "# Remover a coluna '_merge' que foi criada automaticamente pelo merge\n",
        "fraudes_consumo_2023.drop(columns=['_merge'], inplace=True)\n"
      ]
    },
    {
      "cell_type": "markdown",
      "source": [
        "### Calculo da fatura mensal otimizada"
      ],
      "metadata": {
        "id": "wUBFrP909MQ3"
      }
    },
    {
      "cell_type": "markdown",
      "source": [
        "Para calcular a fatura mensal de cada matrícula, utilizamos uma função que considera as tarifas fixas e variáveis de acordo com a subcategoria de consumo. Essa função foi aplicada apenas às linhas onde fraudes foram confirmadas, a fim de diminuir o gasto de memória RAM do colab."
      ],
      "metadata": {
        "id": "PgPMDM0o9POL"
      }
    },
    {
      "cell_type": "code",
      "execution_count": null,
      "metadata": {
        "id": "oTcZSREnucfQ"
      },
      "outputs": [],
      "source": [
        "tarifas_data = {\n",
        "    'SUB_CATEGORIA': ['RES. SOCIAL', 'RESIDENCIAL', 'COMERCIAL', 'INDUSTRIAL', 'PUBLICA', 'Poder Público Municipal', 'RES. INDUBRASIL'],\n",
        "    'TARIFA_FIXA': [8.07, 17.78, 26.98, 42.40, 90.00, 90.00, 17.47],\n",
        "    'FAIXA_CONSUMO_FIXA': [20, 10, 10, 10, 20, 20, 10],  # Faixa fixa antes de aplicar tarifas variáveis\n",
        "    'TARIFA_AGUA': [\n",
        "        [(20, 3.26, 2.28)],  # RES. SOCIAL (até 20m³)\n",
        "        [(10, 7.19, 5.03), (15, 9.20, 6.44), (20, 9.36, 6.55), (25, 10.35, 7.25),\n",
        "         (30, 12.73, 8.91), (50, 15.23, 10.66), (float('inf'), 16.79, 11.75)],  # RESIDENCIAL\n",
        "        [(10, 9.92, 6.94), (float('inf'), 20.31, 14.22)],  # COMERCIAL\n",
        "        [(10, 15.49, 10.84), (float('inf'), 29.83, 20.88)],  # INDUSTRIAL\n",
        "        [(20, 9.01, 6.31), (float('inf'), 37.39, 26.17)],  # PUBLICA\n",
        "        [(20, 7.24, 5.07), (float('inf'), 9.74, 6.82)],  # Poder Público Municipal\n",
        "        [(float('inf'), 2.54, 1.75)]  # RES. INDUBRASIL\n",
        "    ]\n",
        "}\n",
        "\n",
        "# Criar o DataFrame de tarifas\n",
        "df_tarifas = pd.DataFrame(tarifas_data)\n",
        "\n",
        "# Função otimizada para calcular a fatura mensal\n",
        "def calcular_fatura_otimizada_2023(row):\n",
        "    subcategoria = row['SUB_CATEGORIA']\n",
        "    consumo = row['CONS_MEDIDO']\n",
        "\n",
        "    # Verificar se a subcategoria está nas tarifas\n",
        "    if subcategoria not in df_tarifas['SUB_CATEGORIA'].values:\n",
        "        return None\n",
        "\n",
        "    # Obter a tarifa correspondente à subcategoria\n",
        "    tarifa_info = df_tarifas[df_tarifas['SUB_CATEGORIA'] == subcategoria].iloc[0]\n",
        "    tarifa_fixa = tarifa_info['TARIFA_FIXA']\n",
        "    faixa_consumo_fixa = tarifa_info['FAIXA_CONSUMO_FIXA']\n",
        "    faixas = tarifa_info['TARIFA_AGUA']\n",
        "\n",
        "    # Inicializar a fatura com a tarifa fixa\n",
        "    fatura_fixa = tarifa_fixa\n",
        "    consumo_excedente = max(0, consumo - faixa_consumo_fixa)\n",
        "\n",
        "    # Cálculo do valor variável\n",
        "    valor_variavel = 0\n",
        "    for limite, tarifa_agua, tarifa_esgoto in faixas:\n",
        "        if consumo_excedente > 0:\n",
        "            if consumo_excedente <= limite:\n",
        "                valor_variavel += consumo_excedente * (tarifa_agua + tarifa_esgoto)\n",
        "                consumo_excedente = 0\n",
        "                break\n",
        "            else:\n",
        "                valor_variavel += limite * (tarifa_agua + tarifa_esgoto)\n",
        "                consumo_excedente -= limite\n",
        "\n",
        "    # Cálculo final da fatura\n",
        "    fatura_total = fatura_fixa + valor_variavel\n",
        "    return fatura_total * 1.0414  # Aplicar reajuste de 4,14%\n",
        "\n",
        "# Aplicar a função otimizada de cálculo de fatura apenas às linhas onde fraude = 1\n",
        "fraudes_consumo_2023.loc[fraudes_consumo_2023['fraude'] == 1, 'FATURA_MENSAL'] = fraudes_consumo_2023[\n",
        "    fraudes_consumo_2023['fraude'] == 1].apply(calcular_fatura_otimizada_2023, axis=1)\n",
        "\n",
        "fraudes_consumo_2023\n"
      ]
    },
    {
      "cell_type": "markdown",
      "source": [
        "### Análises exploratórias adicionais\n"
      ],
      "metadata": {
        "id": "tbADbJHUAVS1"
      }
    },
    {
      "cell_type": "markdown",
      "source": [
        "1. **Quantidade de matrículas únicas e reincidentes:** Verificamos a quantidade total de matrículas e quantas destas reincidiram em fraudes no ano de 2023.\n",
        "\n",
        "2. **Distribuição das fraudes:** Analisamos a distribuição das fraudes por subcategoria, assim como o valor total e a média de consumo para cada subcategoria."
      ],
      "metadata": {
        "id": "pp0JnH_d_ivl"
      }
    },
    {
      "cell_type": "code",
      "execution_count": null,
      "metadata": {
        "id": "SjGvJVxjxq_3"
      },
      "outputs": [],
      "source": [
        "import pandas as pd\n",
        "\n",
        "def analises_exploratorias_2023(fraudes_consumo_2023):\n",
        "    # Quantidade total de matrículas únicas\n",
        "    matriculas_unicas_2023 = fraudes_consumo_2023['MATRICULA'].nunique()\n",
        "\n",
        "    # Quantidade de matrículas reincidentes na fraude\n",
        "    matriculas_fraudulentas_2023 = fraudes_consumo_2023[fraudes_consumo_2023['fraude'] == 1]\n",
        "    matriculas_reincidentes_2023 = matriculas_fraudulentas_2023.groupby('MATRICULA').size()\n",
        "    matriculas_reincidentes_2023 = matriculas_reincidentes_2023[matriculas_reincidentes_2023 > 1].count()\n",
        "\n",
        "    # Distribuição das fraudes por subcategoria\n",
        "    distribuicao_subcategorias_2023 = matriculas_fraudulentas_2023['SUB_CATEGORIA'].value_counts()\n",
        "\n",
        "    # Valor total de fraudes por subcategoria\n",
        "    valor_total_fraudes_subcategoria_2023 = matriculas_fraudulentas_2023.groupby('SUB_CATEGORIA')['FATURA_MENSAL'].sum().round(2)\n",
        "\n",
        "    # Média de consumo por subcategoria nas fraudes\n",
        "    media_consumo_subcategoria_2023 = matriculas_fraudulentas_2023.groupby('SUB_CATEGORIA')['CONS_MEDIDO'].mean().round(2)\n",
        "\n",
        "    # Mediana de consumo por subcategoria nas fraudes\n",
        "    mediana_consumo_subcategoria_2023 = matriculas_fraudulentas_2023.groupby('SUB_CATEGORIA')['CONS_MEDIDO'].median().round(2)\n",
        "\n",
        "    # Distribuição de fraudes ao longo dos meses\n",
        "    distribuicao_mensal_2023 = matriculas_fraudulentas_2023['ANO_MES'].value_counts().sort_index()\n",
        "\n",
        "    return {\n",
        "        'matriculas_unicas': matriculas_unicas_2023,\n",
        "        'matriculas_reincidentes': matriculas_reincidentes_2023,\n",
        "        # 'distribuicao_subcategorias': distribuicao_subcategorias_2023,\n",
        "        # 'valor_total_fraudes_subcategoria': valor_total_fraudes_subcategoria_2023,\n",
        "        # 'media_consumo_subcategoria': media_consumo_subcategoria_2023,\n",
        "        # 'mediana_consumo_subcategoria': mediana_consumo_subcategoria_2023,\n",
        "        # 'distribuicao_mensal': distribuicao_mensal_2023\n",
        "    }\n",
        "\n",
        "resultados_2023 = analises_exploratorias_2023(fraudes_consumo_2023)\n",
        "resultados_2023"
      ]
    },
    {
      "cell_type": "markdown",
      "source": [
        "Geramos tabelas que resumem as fraudes por categoria, incluindo o número de fraudes, valor total e valor médio por fraude."
      ],
      "metadata": {
        "id": "AT_wqgCaAZ7K"
      }
    },
    {
      "cell_type": "code",
      "execution_count": null,
      "metadata": {
        "id": "OJrN0_pcu_Wk"
      },
      "outputs": [],
      "source": [
        "tabela_valor_total_2023 = fraudes_consumo_2023[fraudes_consumo_2023['fraude'] == 1].groupby('CATEGORIA')['FATURA_MENSAL'].sum().reset_index()\n",
        "tabela_valor_total_2023.columns = ['CATEGORIA', 'VALOR_TOTAL_FRAUDES']\n",
        "tabela_valor_total_2023['VALOR_TOTAL_FRAUDES'] = tabela_valor_total_2023['VALOR_TOTAL_FRAUDES'].round(2)\n",
        "\n",
        "# Tabela 2: Número de fraudes, valor total e valor médio por fraude dividido por categoria\n",
        "tabela_resumo_fraudes_2023 = fraudes_consumo_2023[fraudes_consumo_2023['fraude'] == 1].groupby('CATEGORIA').agg(\n",
        "    NUMERO_FRAUDES=('fraude', 'count'),\n",
        "    VALOR_TOTAL_FRAUDES=('FATURA_MENSAL', 'sum'),\n",
        "    VALOR_MEDIO_FRAUDE=('FATURA_MENSAL', 'mean')\n",
        ").reset_index()\n",
        "\n",
        "# Arredondando os valores para duas casas decimais\n",
        "tabela_resumo_fraudes_2023['VALOR_TOTAL_FRAUDES'] = tabela_resumo_fraudes_2023['VALOR_TOTAL_FRAUDES'].round(2)\n",
        "tabela_resumo_fraudes_2023['VALOR_MEDIO_FRAUDE'] = tabela_resumo_fraudes_2023['VALOR_MEDIO_FRAUDE'].round(2)\n",
        "\n",
        "tabela_resumo_fraudes_2023\n"
      ]
    },
    {
      "cell_type": "markdown",
      "metadata": {
        "id": "U65QlA9wrwGu"
      },
      "source": [
        "Contagem da quantidade de fraudes"
      ]
    },
    {
      "cell_type": "code",
      "execution_count": null,
      "metadata": {
        "id": "E1rawkyNp_sk"
      },
      "outputs": [],
      "source": [
        "fraudes_consumo_2023['fraude'].value_counts()"
      ]
    },
    {
      "cell_type": "markdown",
      "metadata": {
        "id": "Wj2v4oiDroCd"
      },
      "source": [
        "Percentual de fraudes"
      ]
    },
    {
      "cell_type": "code",
      "execution_count": null,
      "metadata": {
        "id": "5ZSzw86FqNFx"
      },
      "outputs": [],
      "source": [
        "percentual_de_fraudes=(fraudes_consumo_2023['fraude'].value_counts()[1]/fraudes_consumo_2023['fraude'].value_counts()[0])*100\n",
        "percentual_de_fraudes"
      ]
    },
    {
      "cell_type": "code",
      "execution_count": null,
      "metadata": {
        "id": "TCTTuzwizLyW"
      },
      "outputs": [],
      "source": [
        "fraudes_confirmadas = fraudes_consumo_2023[fraudes_consumo_2023['fraude']==1]\n",
        "fraudes_confirmadas"
      ]
    },
    {
      "cell_type": "markdown",
      "metadata": {
        "id": "ewtuoGXXswN2"
      },
      "source": [
        "Fraudes por categoria"
      ]
    },
    {
      "cell_type": "code",
      "execution_count": null,
      "metadata": {
        "id": "o0BB1cb-nwUF"
      },
      "outputs": [],
      "source": [
        "contagem_fraudes_por_categoria = fraudes_consumo_2023[fraudes_consumo_2023['fraude'] == 1]['CATEGORIA'].value_counts()\n",
        "contagem_fraudes_por_categoria"
      ]
    },
    {
      "cell_type": "markdown",
      "metadata": {
        "id": "eogISfj5y-pt"
      },
      "source": [
        "Consumo médio das fraudes por categoria"
      ]
    },
    {
      "cell_type": "code",
      "execution_count": null,
      "metadata": {
        "id": "nca4vq8ruw84"
      },
      "outputs": [],
      "source": [
        "consumo_medio_por_categoria = fraudes_confirmadas.groupby('CATEGORIA')['CONS_MEDIDO'].mean()\n",
        "consumo_medio_por_categoria"
      ]
    },
    {
      "cell_type": "markdown",
      "metadata": {
        "id": "s-uTJcXHzFXe"
      },
      "source": [
        "Consumo total das fraudes por categoria"
      ]
    },
    {
      "cell_type": "code",
      "execution_count": null,
      "metadata": {
        "id": "ca9t7-aNxfb1"
      },
      "outputs": [],
      "source": [
        "consumo_total_por_categoria = fraudes_confirmadas.groupby('CATEGORIA')['CONS_MEDIDO'].sum()\n",
        "consumo_total_por_categoria"
      ]
    },
    {
      "cell_type": "markdown",
      "metadata": {
        "id": "1gn_GlF4ClfY"
      },
      "source": [
        "Com base nas exceções, a determinação do consumo medido por número de fraudes."
      ]
    },
    {
      "cell_type": "code",
      "execution_count": null,
      "metadata": {
        "id": "LOapr-1c1rrv"
      },
      "outputs": [],
      "source": [
        "tabela_fraudes_excecao = fraudes_confirmadas.groupby('EXCECAO').agg({\n",
        "    'CONS_MEDIDO': 'sum',\n",
        "    'MATRICULA': 'count'  # Contando o número de fraudes\n",
        "}).rename(columns={'MATRICULA': 'Número de Fraudes', 'CONS_MEDIDO': 'Consumo Total Medido'})\n",
        "\n",
        "tabela_fraudes_excecao"
      ]
    },
    {
      "cell_type": "markdown",
      "source": [
        "### Análises e gráficos sazonais\n"
      ],
      "metadata": {
        "id": "eldaWXkKAqQf"
      }
    },
    {
      "cell_type": "markdown",
      "source": [
        "1. **Consumo médio mensal:** Analisamos o consumo médio mensal de água para fraudes confirmadas e não confirmadas em 2023.\n",
        "2. **Consumo por dia da semana:** Investigamos o consumo médio de água por dia da semana para identificar possíveis padrões sazonais."
      ],
      "metadata": {
        "id": "milhx8J8Ahzr"
      }
    },
    {
      "cell_type": "markdown",
      "metadata": {
        "id": "bX9FpvF8LVeB"
      },
      "source": [
        "Consumo médio mensal de água (registros não fraudulentos)"
      ]
    },
    {
      "cell_type": "code",
      "execution_count": null,
      "metadata": {
        "id": "ucWUdsQv33jp"
      },
      "outputs": [],
      "source": [
        "fraudes_consumo_2023['REFERENCIA'] = pd.to_datetime(fraudes_consumo_2023['REFERENCIA'], errors='coerce')\n",
        "\n",
        "# Filtrar os dados para o ano de 2023\n",
        "dados_2023 = fraudes_consumo_2023[fraudes_consumo_2023['REFERENCIA'].dt.year == 2023]\n",
        "\n",
        "# Separar fraudes confirmadas e não confirmadas\n",
        "fraudes_confirmadas_2023 = dados_2023[dados_2023['fraude'] == 1]\n",
        "fraudes_nao_confirmadas_2023 = dados_2023[dados_2023['fraude'] == 0]\n",
        "\n",
        "# Adicionar a coluna de mês\n",
        "fraudes_confirmadas_2023['MES'] = fraudes_confirmadas_2023['REFERENCIA'].dt.month\n",
        "fraudes_nao_confirmadas_2023['MES'] = fraudes_nao_confirmadas_2023['REFERENCIA'].dt.month\n",
        "\n",
        "# Consumo médio mensal para fraudes confirmadas\n",
        "consumo_medio_confirmadas = fraudes_confirmadas_2023.groupby('MES')['CONS_MEDIDO'].mean().reset_index()\n",
        "\n",
        "# Consumo médio mensal para fraudes não confirmadas\n",
        "consumo_medio_nao_confirmadas = fraudes_nao_confirmadas_2023.groupby('MES')['CONS_MEDIDO'].mean().reset_index()\n",
        "\n",
        "# Gráfico sazonal para fraudes confirmadas\n",
        "fig_sazonal_confirmadas = px.line(consumo_medio_confirmadas, x='MES', y='CONS_MEDIDO',\n",
        "                                  title='Consumo médio mensal de água em 2023 - Fraudes Confirmadas',\n",
        "                                  labels={'MES': 'Mês', 'CONS_MEDIDO': 'Consumo Médio (m³)'},\n",
        "                                  markers=True)\n",
        "\n",
        "# Gráfico sazonal para fraudes não confirmadas\n",
        "fig_sazonal_nao_confirmadas = px.line(consumo_medio_nao_confirmadas, x='MES', y='CONS_MEDIDO',\n",
        "                                      title='Consumo médio mensal de água em 2023 - Fraudes Não Confirmadas',\n",
        "                                      labels={'MES': 'Mês', 'CONS_MEDIDO': 'Consumo Médio (m³)'},\n",
        "                                      markers=True)\n",
        "\n",
        "# Exibir os gráficos\n",
        "fig_sazonal_confirmadas.show()\n",
        "fig_sazonal_nao_confirmadas.show()"
      ]
    },
    {
      "cell_type": "code",
      "execution_count": null,
      "metadata": {
        "id": "wtN-fvTl5Z3x"
      },
      "outputs": [],
      "source": [
        "dados_2023['DIA_SEMANA'] = dados_2023['REFERENCIA'].dt.day_name()\n",
        "consumo_medio_semanal = dados_2023.groupby('DIA_SEMANA')['CONS_MEDIDO'].mean().reset_index()\n",
        "dias_ordenados = ['Monday', 'Tuesday', 'Wednesday', 'Thursday', 'Friday', 'Saturday', 'Sunday']\n",
        "consumo_medio_semanal['DIA_SEMANA'] = pd.Categorical(consumo_medio_semanal['DIA_SEMANA'], categories=dias_ordenados, ordered=True)\n",
        "consumo_medio_semanal = consumo_medio_semanal.sort_values('DIA_SEMANA')\n",
        "fig_semanal = px.line(consumo_medio_semanal, x='DIA_SEMANA', y='CONS_MEDIDO',\n",
        "                      title='Consumo Médio por Dia da Semana em 2023',\n",
        "                      labels={'DIA_SEMANA': 'Dia da Semana', 'CONS_MEDIDO': 'Consumo Médio (m³)'},\n",
        "                      markers=True)\n",
        "fig_semanal.show()"
      ]
    },
    {
      "cell_type": "code",
      "execution_count": null,
      "metadata": {
        "id": "j3R7Ca6aMLGZ"
      },
      "outputs": [],
      "source": [
        "fraudes_consumo_2023_fraudes = fraudes_consumo_2023[fraudes_consumo_2023['fraude'] == 1]\n",
        "fraudes_consumo_2023_fraudes['REFERENCIA'] = pd.to_datetime(fraudes_consumo_2023_fraudes['REFERENCIA'], errors='coerce')\n",
        "consumo_diario_por_categoria_fraude = fraudes_consumo_2023_fraudes.groupby(['REFERENCIA', 'CATEGORIA'])['CONS_MEDIDO'].mean().reset_index()\n",
        "fig_fraude = px.line(consumo_diario_por_categoria_fraude,\n",
        "                     x='REFERENCIA',\n",
        "                     y='CONS_MEDIDO',\n",
        "                     color='CATEGORIA',\n",
        "                     title='Média de consumo (m³) mensal por categoria das fraudes confirmadas',\n",
        "                     labels={'REFERENCIA': 'Data', 'CONS_MEDIDO': 'Média de Consumo Medido (m³)', 'CATEGORIA': 'Categoria'},\n",
        "                     markers=True)\n",
        "\n",
        "# Ajustar o layout para melhorar a visualização\n",
        "fig_fraude.update_layout(xaxis_title='Data',\n",
        "                         yaxis_title='Média de Consumo Medido (m³)')\n",
        "\n",
        "# Exibir o gráfico\n",
        "fig_fraude.show()"
      ]
    },
    {
      "cell_type": "code",
      "execution_count": null,
      "metadata": {
        "id": "yCrP45es3zQ2"
      },
      "outputs": [],
      "source": [
        "fraudes_consumo_2023_sem_fraude = fraudes_consumo_2023[fraudes_consumo_2023['fraude'] == 0]\n",
        "fraudes_consumo_2023_sem_fraude['REFERENCIA'] = pd.to_datetime(fraudes_consumo_2023_sem_fraude['REFERENCIA'], errors='coerce')\n",
        "consumo_diario_por_categoria_sem_fraude = fraudes_consumo_2023_sem_fraude.groupby(['REFERENCIA', 'CATEGORIA'])['CONS_MEDIDO'].mean().reset_index()\n",
        "fig_sem_fraude = px.line(consumo_diario_por_categoria_sem_fraude,\n",
        "                         x='REFERENCIA',\n",
        "                         y='CONS_MEDIDO',\n",
        "                         color='CATEGORIA',\n",
        "                         title='Média de consumo (m³) mensal por categoria não fraudulenta',\n",
        "                         labels={'REFERENCIA': 'Data', 'CONS_MEDIDO': 'Média de Consumo Medido (m³)', 'CATEGORIA': 'Categoria'},\n",
        "                         markers=True)\n",
        "fig_sem_fraude.update_layout(xaxis_title='Data',\n",
        "                             yaxis_title='Média de Consumo Medido (m³)')\n",
        "fig_sem_fraude.show()"
      ]
    },
    {
      "cell_type": "code",
      "source": [
        "consumo_mensal = fraudes_consumo_2023.groupby('ANO_MES')['CONS_MEDIDO'].sum().reset_index()\n",
        "fig = px.line(consumo_mensal, x='ANO_MES', y='CONS_MEDIDO', title='Consumo Total Mensal de Água em 2023', labels={'ANO_MES': 'Mês', 'CONS_MEDIDO': 'Consumo Total (m³)'})\n",
        "fig.show()"
      ],
      "metadata": {
        "id": "qyw4zGeP6pdT"
      },
      "execution_count": null,
      "outputs": []
    },
    {
      "cell_type": "code",
      "execution_count": null,
      "metadata": {
        "id": "Cnf-kRlkM35j"
      },
      "outputs": [],
      "source": [
        "consumo_medio_por_categoria = fraudes_consumo_2023.groupby('CATEGORIA')['CONS_MEDIDO'].mean().reset_index()\n",
        "consumo_medio_por_categoria = consumo_medio_por_categoria.sort_values(by='CONS_MEDIDO', ascending=False)\n",
        "consumo_medio_por_categoria['Porcentagem_Acumulada'] = consumo_medio_por_categoria['CONS_MEDIDO'].cumsum() / consumo_medio_por_categoria['CONS_MEDIDO'].sum() * 100\n",
        "fig = px.bar(consumo_medio_por_categoria,\n",
        "             x='CATEGORIA',\n",
        "             y='CONS_MEDIDO',\n",
        "             title='Volume médio de agua consumido por categoria',\n",
        "             labels={'CONS_MEDIDO': 'Volume Médio Consumido (m³)', 'CATEGORIA': 'Categoria'})\n",
        "fig.add_trace(\n",
        "    go.Scatter(\n",
        "        x=consumo_medio_por_categoria['CATEGORIA'],\n",
        "        y=consumo_medio_por_categoria['Porcentagem_Acumulada'],\n",
        "        mode='lines+markers',\n",
        "        name='Porcentagem Acumulada',\n",
        "        yaxis='y2'\n",
        "    )\n",
        ")\n",
        "fig.update_layout(\n",
        "    yaxis2=dict(\n",
        "        title='Porcentagem Acumulada (%)',\n",
        "        overlaying='y',\n",
        "        side='right',\n",
        "        range=[0, 100]\n",
        "    ),\n",
        "    xaxis_title='Categoria',\n",
        "    yaxis_title='Volume Médio Consumido (m³)',\n",
        "    showlegend=True\n",
        ")\n",
        "fig.show()"
      ]
    },
    {
      "cell_type": "code",
      "execution_count": null,
      "metadata": {
        "id": "DrRCD6hmN28x"
      },
      "outputs": [],
      "source": [
        "consumo_medio_por_categoria = fraudes_consumo_2023_fraudes.groupby('CATEGORIA')['CONS_MEDIDO'].mean().reset_index()\n",
        "consumo_medio_por_categoria = consumo_medio_por_categoria.sort_values(by='CONS_MEDIDO', ascending=False)\n",
        "consumo_medio_por_categoria['Porcentagem_Relativa'] = (consumo_medio_por_categoria['CONS_MEDIDO'] / consumo_medio_por_categoria['CONS_MEDIDO'].sum()) * 100\n",
        "fig = px.bar(consumo_medio_por_categoria,\n",
        "             x='CATEGORIA',\n",
        "             y='CONS_MEDIDO',\n",
        "             title='Volume médio de água consumido por categoria em fraudes confirmadas',\n",
        "             labels={'CONS_MEDIDO': 'Volume Médio Consumido (m³)', 'CATEGORIA': 'Categoria'})\n",
        "fig.add_trace(\n",
        "    go.Scatter(\n",
        "        x=consumo_medio_por_categoria['CATEGORIA'],\n",
        "        y=consumo_medio_por_categoria['Porcentagem_Relativa'],\n",
        "        mode='lines+markers',\n",
        "        name='Porcentagem Relativa (%)',\n",
        "        yaxis='y2'\n",
        "    )\n",
        ")\n",
        "fig.update_layout(\n",
        "    yaxis2=dict(\n",
        "        title='Porcentagem Relativa (%)',\n",
        "        overlaying='y',\n",
        "        side='right',\n",
        "        range=[0, 100]\n",
        "    ),\n",
        "    xaxis_title='Categoria',\n",
        "    yaxis_title='Volume Médio Consumido (m³)',\n",
        "    showlegend=True\n",
        ")\n",
        "fig.show()"
      ]
    },
    {
      "cell_type": "code",
      "execution_count": null,
      "metadata": {
        "id": "RfkXY8bH42Lz"
      },
      "outputs": [],
      "source": [
        "fraudes_consumo_2023_fraudes['REFERENCIA'] = pd.to_datetime(fraudes_consumo_2023_fraudes['REFERENCIA'], errors='coerce')\n",
        "contagem_fraudes_por_categoria = fraudes_consumo_2023_fraudes.groupby(['REFERENCIA', 'CATEGORIA']).size().reset_index(name='NUM_FRAUDES')\n",
        "\n",
        "fig_fraudes = px.line(contagem_fraudes_por_categoria,\n",
        "                      x='REFERENCIA',\n",
        "                      y='NUM_FRAUDES',\n",
        "                      color='CATEGORIA',\n",
        "                      title='Número de Fraudes Diárias por Categoria',\n",
        "                      labels={'REFERENCIA': 'Data', 'NUM_FRAUDES': 'Número de Fraudes', 'CATEGORIA': 'Categoria'},\n",
        "                      markers=True)\n",
        "\n",
        "# Ajustar o layout para melhorar a visualização\n",
        "fig_fraudes.update_layout(xaxis_title='Data',\n",
        "                          yaxis_title='Número de Fraudes')\n",
        "\n",
        "fig_fraudes.show()"
      ]
    },
    {
      "cell_type": "markdown",
      "source": [
        "### Análises geoespaciais\n"
      ],
      "metadata": {
        "id": "imNiP1c_A12B"
      }
    },
    {
      "cell_type": "markdown",
      "source": [
        "Para entender a distribuição das fraudes e consumo em termos geográficos, geramos gráficos de dispersão e mapas com coordenadas de latitude e longitude, representando o volume de consumo e a quantidade de fraudes.\n"
      ],
      "metadata": {
        "id": "_XJWNijvAy4O"
      }
    },
    {
      "cell_type": "code",
      "execution_count": null,
      "metadata": {
        "id": "wT0JL0s66B4Q"
      },
      "outputs": [],
      "source": [
        "# Agrupar por matrícula (ou outro identificador único) e somar o consumo medido\n",
        "agrupado = fraudes_consumo_2023.groupby('MATRICULA').agg({\n",
        "    'CONS_MEDIDO': 'sum',\n",
        "    'COD_LATITUDE': 'first',\n",
        "    'COD_LONGITUDE': 'first'\n",
        "}).reset_index()\n",
        "\n",
        "# Criar o gráfico geoespacial com os dados agregados\n",
        "fig_geo_agrupado = px.scatter_mapbox(\n",
        "    agrupado,\n",
        "    lat='COD_LATITUDE',\n",
        "    lon='COD_LONGITUDE',\n",
        "    color='CONS_MEDIDO',\n",
        "    size='CONS_MEDIDO',\n",
        "    size_max=15,\n",
        "    zoom=10,\n",
        "    mapbox_style=\"carto-positron\",\n",
        "    title='Mapeamento Geoespacial de Consumo Medido Agregado em Casos de Fraude (Não-Residencial, 2023)',\n",
        "    width=1000,\n",
        "    height=1000\n",
        ")\n",
        "\n",
        "# Exibir o gráfico\n",
        "fig_geo_agrupado.show()"
      ]
    },
    {
      "cell_type": "code",
      "execution_count": null,
      "metadata": {
        "id": "C5EF9SxW5Ahz"
      },
      "outputs": [],
      "source": [
        "# Filtrar o DataFrame para incluir apenas fraudes e categorias não residenciais\n",
        "fraudes_consumo_2023_fraudes = fraudes_consumo_2023[\n",
        "    (fraudes_consumo_2023['fraude'] == 1) &\n",
        "    (fraudes_consumo_2023['CATEGORIA'] != 'RESIDENCIAL')\n",
        "]\n",
        "# Remover linhas com valores nulos em 'COD_LATITUDE' e 'COD_LONGITUDE'\n",
        "fraudes_consumo_2023_fraudes_clean = fraudes_consumo_2023_fraudes.dropna(subset=['COD_LATITUDE', 'COD_LONGITUDE'])\n",
        "\n",
        "# Contar o número de fraudes por coordenada (latitude e longitude), matrícula e categoria\n",
        "fraudes_contagem = fraudes_consumo_2023_fraudes_clean.groupby(['COD_LATITUDE', 'COD_LONGITUDE', 'MATRICULA', 'CATEGORIA']).size().reset_index(name='NUM_FRAUDES')\n",
        "\n",
        "# Criar o gráfico geoespacial com tamanho aumentado e inclusão de matrícula e categoria\n",
        "fig_geo = px.scatter_mapbox(\n",
        "    fraudes_contagem,\n",
        "    lat='COD_LATITUDE',\n",
        "    lon='COD_LONGITUDE',\n",
        "    color='NUM_FRAUDES',  # Usar a quantidade de fraudes para colorir os pontos\n",
        "    size='NUM_FRAUDES',  # Usar a quantidade de fraudes para dimensionar os pontos\n",
        "    size_max=25,  # Aumentar o tamanho máximo dos pontos\n",
        "    hover_name='MATRICULA',  # Adicionar matrícula como texto ao passar o cursor\n",
        "    hover_data={'CATEGORIA': True, 'NUM_FRAUDES': True},  # Incluir a categoria e número de fraudes no hover\n",
        "    zoom=10,\n",
        "    mapbox_style=\"carto-positron\",\n",
        "    title='Mapeamento Geoespacial de Quantidade de Fraudes (Não-Residencial, 2023)',\n",
        "    width=1000,  # Aumentar a largura do gráfico\n",
        "    height=1000  # Aumentar a altura do gráfico\n",
        ")\n",
        "\n",
        "# Exibir o gráfico\n",
        "fig_geo.show()"
      ]
    },
    {
      "cell_type": "code",
      "source": [
        "consumo_total_por_fraude = fraudes_confirmadas.groupby('MATRICULA')['CONS_MEDIDO'].sum().reset_index()\n",
        "consumo_total_por_fraude['OUTLIER'] = (consumo_total_por_fraude['CONS_MEDIDO'] > consumo_total_por_fraude['CONS_MEDIDO'].mean() + 3*consumo_total_por_fraude['CONS_MEDIDO'].std())\n",
        "consumo_total_por_fraude['OUTLIER'] = consumo_total_por_fraude['OUTLIER'].astype(int)\n",
        "consumo_total_por_fraude"
      ],
      "metadata": {
        "id": "vj3Op05s64ca"
      },
      "execution_count": null,
      "outputs": []
    },
    {
      "cell_type": "markdown",
      "source": [
        "## Análise qualitativa dos resultados obtidos"
      ],
      "metadata": {
        "id": "x_pwQVFmBs-R"
      }
    },
    {
      "cell_type": "markdown",
      "source": [
        "A análise exploratória realizada até agora fornece uma base para entender os padrões de consumo de água e a incidência de fraudes em diferentes categorias e regiões. Com os insights obtidos, podemos começar a identificar variáveis e características importantes que poderão alimentar o modelo de deep learning para calcular a probabilidade de fraude. A seguir, estão dispostos os principais pontos de cada parte da análise.\n",
        "\n",
        "### **1. Estrutura e qualidade dos dados**\n",
        "* Dimensões dos dados: A análise inicial das dimensões dos dados revelou a presença de um grande número de registros, o que é positivo para a robustez do modelo a ser construído, especialmente considerando a existência das bases dos anos anteriores. A verificação dos tipos de dados e a presença de valores nulos indicam que os dados estão em um estado relativamente bom, com algumas colunas que podem requerer limpeza adicional antes da modelagem.\n",
        "\n",
        "* Valores Únicos: A análise dos valores únicos em colunas como EXCECAO, DSC_SIMULTANEA, CATEGORIA e DSC_OCORRENCIA sugere que essas colunas contêm informações que podem ser cruciais para identificar padrões suspeitos. Por exemplo, a presença de exceções e retenções pode indicar irregularidades que precisam ser mais investigadas.\n",
        "\n",
        "### **2. Integração dos dados de consumo e fraudes**\n",
        "\n",
        "* Unificação dos dados: A integração dos dados de consumo com os registros de fraudes para o ano de 2023 permitiu a criação de um conjunto de dados consolidado, onde cada matrícula é identificada como fraudulenta ou não. Este passo é essencial para criar uma variável de resposta clara (fraude), que será a variável alvo no modelo construído.\n",
        "\n",
        "* Conversão e manipulação de datas: A padronização das datas foi um passo importante para permitir análises temporais, o que é fundamental para capturar tendências e sazonalidades que podem influenciar o comportamento de fraude.\n",
        "\n",
        "### **3. Análise de consumo e tarifas**\n",
        "* Cálculo da fatura mensal: A implementação de uma função para calcular a fatura mensal com base em tarifas fixas e variáveis por subcategoria é um ponto forte. Isso não apenas ajuda a entender o impacto financeiro das fraudes, mas também pode revelar outliers em consumo que, por sua vez, podem estar associados a práticas fraudulentas.\n",
        "\n",
        "* Impacto das tarifas: A análise das tarifas aplicadas em diferentes subcategorias pode ser explorada mais profundamente. Subcategorias com tarifas mais elevadas podem estar mais propensas a fraudes devido ao incentivo financeiro para reduzir custos.\n",
        "\n",
        "### **4. Distribuição das Fraudes**\n",
        "* Distribuição por subcategoria: As fraudes foram distribuídas de maneira desigual entre as diferentes subcategorias. Subcategorias com maior incidência de fraudes precisam de uma atenção especial. Esse insight pode guiar o foco das estratégias de mitigação e ajudar a afinar o modelo de predição, ajustando-o para capturar variações específicas por subcategoria.\n",
        "\n",
        "* Reincidência em matrículas: A identificação de matrículas reincidentes em fraudes é um dado valioso. Esses clientes reincidentes podem ter características específicas que o modelo de deep learning pode aprender a identificar, aumentando a precisão na detecção de fraudes futuras.\n",
        "\n",
        "### **5. Análises Temporais**\n",
        "* Sazonalidade e consumo médio mensal: A análise sazonal revelou que o consumo médio varia ao longo do ano, tanto para fraudes confirmadas quanto para registros não fraudulentos. Essa variação sazonal pode ser uma característica importante para o modelo de predição, sugerindo que a incorporação de variáveis temporais pode melhorar o desempenho do modelo.\n",
        "\n",
        "* Consumo por dia da semana: A diferença no consumo médio de água por dia da semana indica que padrões de comportamento diário também podem influenciar a probabilidade de fraude. Este insight deve ser incorporado ao modelo para capturar essas variações comportamentais.\n",
        "\n",
        "### **6. Análises geoespaciais**\n",
        "* Distribuição geográfica das fraudes: Os gráficos geoespaciais e a análise de clusters mostraram que as fraudes não estão distribuídas uniformemente no espaço. Certas regiões apresentam uma maior concentração de fraudes, o que pode ser influenciado por fatores socioeconômicos ou culturais. Incorporar dados geográficos no modelo de predição pode aumentar significativamente sua acurácia.\n",
        "\n",
        "### **7. Análise por Categoria**\n",
        "* Consumo médio e total por categoria: A análise de consumo por categoria mostrou que certas categorias têm um consumo médio significativamente maior, o que pode indicar práticas fraudulentas sofisticadas. Essas categorias devem ser monitoradas de perto, e o modelo deve ser treinado para identificar anomalias dentro dessas faixas de consumo.\n",
        "\n",
        "* Impacto acumulado: A porcentagem acumulada de consumo pode ajudar a identificar outliers que estão contribuindo desproporcionalmente para o consumo total, o que é um indicador clássico de possível fraude.\n",
        "\n",
        "### **8. Outliers e anomalias**\n",
        "* Identificação de outliers: A detecção de outliers no consumo, especialmente em matrículas com histórico de fraude, pode ser um dos fatores determinantes para o modelo. Esses outliers devem ser tratados com cuidado na modelagem, pois podem influenciar a decisão do modelo de forma significativa.\n",
        "\n",
        "### **9. Conclusão e próximos passos**\n",
        "A análise exploratória realizada até aqui forneceu uma compreensão abrangente dos dados de consumo e fraudes, identificando padrões importantes e características que poderão ser usadas na construção de um modelo de deep learning para predição de fraudes. A inclusão de variáveis temporais, geográficas, socioeconômicas, e de consumo, bem como a identificação de outliers e padrões sazonais, são fundamentais para melhorar a acurácia e a robustez do modelo.\n",
        "\n",
        "Os próximos passos devem focar em:\n",
        "\n",
        "* Feature engineering: Criar novas variáveis baseadas nos insights obtidos, como índices de sazonalidade, distâncias geográficas entre fraudes, e agregações temporais.\n",
        "\n",
        "* Modelagem preliminar: Testar modelos básicos de classificação (como Random Forest ou Gradient Boosting) para identificar quais características são mais importantes (ainda estamos estudando se iremos, de fato, realizar esse passo, mas, por ora, parece ser uma alternativa palpável).\n",
        "\n",
        "* Desenvolvimento do modelo de deep learning: Com base nas variáveis identificadas, treinar um modelo de deep learning robusto, ajustando parâmetros e arquitetura para maximizar a performance preditiva.\n",
        "\n",
        "Com esses passos, será possível construir um modelo capaz de determinar a probabilidade de fraudes com alta precisão, contribuindo significativamente para a redução de perdas financeiras e aprimorando as estratégias de prevenção de fraudes da Aegea."
      ],
      "metadata": {
        "id": "owZb5ZIwBwEF"
      }
    },
    {
      "cell_type": "code",
      "source": [],
      "metadata": {
        "id": "9lEjbymDG6zF"
      },
      "execution_count": null,
      "outputs": []
    }
  ],
  "metadata": {
    "colab": {
      "provenance": [],
      "collapsed_sections": [
        "NZaeyvkriICQ",
        "mgtcYc6RarEn",
        "qBOkU9WuiG0Q",
        "819qYz8lhldQ",
        "wTct6ig9lh1P",
        "x_pwQVFmBs-R"
      ]
    },
    "kernelspec": {
      "display_name": "Python 3",
      "name": "python3"
    },
    "language_info": {
      "name": "python"
    }
  },
  "nbformat": 4,
  "nbformat_minor": 0
}