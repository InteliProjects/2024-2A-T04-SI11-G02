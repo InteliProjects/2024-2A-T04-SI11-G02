{
  "cells": [
    {
      "cell_type": "markdown",
      "metadata": {
        "id": "__2Rui4zSuG3"
      },
      "source": [
        "# Pré-Processamento de Endereços"
      ]
    },
    {
      "cell_type": "markdown",
      "source": [
        "## 1.Setup"
      ],
      "metadata": {
        "id": "nnlf4dgX21qr"
      }
    },
    {
      "cell_type": "markdown",
      "source": [
        "Setup do ambiente para importar bibliotecas e dados."
      ],
      "metadata": {
        "id": "XNX5kVwE3pVg"
      }
    },
    {
      "cell_type": "code",
      "execution_count": 3,
      "metadata": {
        "id": "llaiX2ppRx47"
      },
      "outputs": [],
      "source": [
        "import pandas as pd\n",
        "import seaborn as sns\n",
        "import matplotlib.pyplot as plt\n",
        "import numpy as np"
      ]
    },
    {
      "cell_type": "code",
      "execution_count": 4,
      "metadata": {
        "colab": {
          "base_uri": "https://localhost:8080/"
        },
        "id": "KZc3mTSyAprp",
        "outputId": "b3380ac8-7219-4eef-cb81-3e159351f382"
      },
      "outputs": [
        {
          "output_type": "stream",
          "name": "stdout",
          "text": [
            "Drive already mounted at /content/drive; to attempt to forcibly remount, call drive.mount(\"/content/drive\", force_remount=True).\n"
          ]
        }
      ],
      "source": [
        "from google.colab import drive\n",
        "drive.mount('/content/drive')"
      ]
    },
    {
      "cell_type": "code",
      "execution_count": 5,
      "metadata": {
        "id": "wY5gyc7L_yWv"
      },
      "outputs": [],
      "source": [
        "# Carregando os dados\n",
        "dados_geral = pd.read_csv('/content/drive/MyDrive/Dados de Consumo/Consumo 2024 - Cem Linhas Teste.csv')"
      ]
    },
    {
      "cell_type": "code",
      "execution_count": 6,
      "metadata": {
        "colab": {
          "base_uri": "https://localhost:8080/"
        },
        "id": "iaLnf2in_yWw",
        "outputId": "a9d08021-1a67-4cfe-ecd6-2223048e24b6"
      },
      "outputs": [
        {
          "output_type": "stream",
          "name": "stdout",
          "text": [
            "   Unnamed: 0  EMP_CODIGO  REFERENCIA  COD_GRUPO  COD_SETOR_COMERCIAL  \\\n",
            "0           0           2  2024-05-01          4                   17   \n",
            "1           1           2  2024-06-01          4                   87   \n",
            "2           2           2  2024-07-01         14                   85   \n",
            "3           3           2  2024-03-01          8                    5   \n",
            "4           4           2  2024-01-01         12                   88   \n",
            "\n",
            "   NUM_QUADRA  COD_ROTA_LEITURA  MATRICULA  SEQ_RESPONSAVEL  ECO_RESIDENCIAL  \\\n",
            "0          16                11   17188010           581756                0   \n",
            "1          60                38   17424465           188809                1   \n",
            "2         314                 9   17857770           454315                1   \n",
            "3         112                25   17702922           311133                0   \n",
            "4         284                43   17719490           735648                1   \n",
            "\n",
            "   ...                 DSC_SIMULTANEA  VOLUME_ESTIMADO  VOLUME_ESTIMADO_ACUM  \\\n",
            "0  ...  63-RETIDA - FATURA ELETRONICA              -21                     0   \n",
            "1  ...                00-NAO ENTREGUE                0                     0   \n",
            "2  ...                00-NAO ENTREGUE                0                     0   \n",
            "3  ...            04-FIXADA AO PORTAO                0                     0   \n",
            "4  ...               02-CAIXA CORREIO               -9                     0   \n",
            "\n",
            "   FATURADO_MEDIA  COD_LEITURA_INT  STA_TROCA EXCECAO  STA_ACEITA_LEITURA  \\\n",
            "0             NaN              901          N  Normal                   S   \n",
            "1             NaN              900          N  Normal                   S   \n",
            "2             NaN              900          N  Normal                   S   \n",
            "3             NaN              900          N  Normal                   S   \n",
            "4             NaN              901          N  Normal                   S   \n",
            "\n",
            "   COD_LATITUDE COD_LONGITUDE  \n",
            "0    -20.460904    -54.634308  \n",
            "1    -20.520205    -54.602621  \n",
            "2    -20.517992    -54.605950  \n",
            "3    -20.453648    -54.611187  \n",
            "4    -20.516981    -54.592872  \n",
            "\n",
            "[5 rows x 37 columns]\n"
          ]
        }
      ],
      "source": [
        "# Visualizando as primeiras linhas dos dados\n",
        "print(dados_geral.head())"
      ]
    },
    {
      "cell_type": "markdown",
      "source": [
        "## 2.Conversão De Endereços"
      ],
      "metadata": {
        "id": "TqO-Me6Q29iZ"
      }
    },
    {
      "cell_type": "markdown",
      "source": [
        "O seguinte script tem como fim converter coordenadas em bairros via a bibloteca do geopy. A função personalizada extrai o bairro e adiciona essa informação ao DataFrame.\n"
      ],
      "metadata": {
        "id": "KTqnGeFL5coI"
      }
    },
    {
      "cell_type": "code",
      "execution_count": 7,
      "metadata": {
        "colab": {
          "base_uri": "https://localhost:8080/"
        },
        "id": "igdtH9aGvsim",
        "outputId": "40fd1fef-087b-4c8c-bb94-7a56d6b4deec"
      },
      "outputs": [
        {
          "output_type": "stream",
          "name": "stdout",
          "text": [
            "Requirement already satisfied: geopy in /usr/local/lib/python3.10/dist-packages (2.4.1)\n",
            "Requirement already satisfied: geographiclib<3,>=1.52 in /usr/local/lib/python3.10/dist-packages (from geopy) (2.0)\n"
          ]
        }
      ],
      "source": [
        "!pip install geopy"
      ]
    },
    {
      "cell_type": "code",
      "execution_count": 8,
      "metadata": {
        "colab": {
          "base_uri": "https://localhost:8080/"
        },
        "id": "IdHEa1yLlWJL",
        "outputId": "a0542416-82ae-4c57-88ba-b9af17b550dd"
      },
      "outputs": [
        {
          "output_type": "stream",
          "name": "stdout",
          "text": [
            "Requirement already satisfied: geopy in /usr/local/lib/python3.10/dist-packages (2.4.1)\n",
            "Requirement already satisfied: geographiclib<3,>=1.52 in /usr/local/lib/python3.10/dist-packages (from geopy) (2.0)\n",
            "   Unnamed: 0  EMP_CODIGO  REFERENCIA  COD_GRUPO  COD_SETOR_COMERCIAL  \\\n",
            "0           0           2  2024-05-01          4                   17   \n",
            "1           1           2  2024-06-01          4                   87   \n",
            "2           2           2  2024-07-01         14                   85   \n",
            "3           3           2  2024-03-01          8                    5   \n",
            "4           4           2  2024-01-01         12                   88   \n",
            "\n",
            "   NUM_QUADRA  COD_ROTA_LEITURA  MATRICULA  SEQ_RESPONSAVEL  ECO_RESIDENCIAL  \\\n",
            "0          16                11   17188010           581756                0   \n",
            "1          60                38   17424465           188809                1   \n",
            "2         314                 9   17857770           454315                1   \n",
            "3         112                25   17702922           311133                0   \n",
            "4         284                43   17719490           735648                1   \n",
            "\n",
            "   ...  VOLUME_ESTIMADO  VOLUME_ESTIMADO_ACUM  FATURADO_MEDIA  \\\n",
            "0  ...              -21                     0             NaN   \n",
            "1  ...                0                     0             NaN   \n",
            "2  ...                0                     0             NaN   \n",
            "3  ...                0                     0             NaN   \n",
            "4  ...               -9                     0             NaN   \n",
            "\n",
            "   COD_LEITURA_INT  STA_TROCA  EXCECAO STA_ACEITA_LEITURA  COD_LATITUDE  \\\n",
            "0              901          N   Normal                  S    -20.460904   \n",
            "1              900          N   Normal                  S    -20.520205   \n",
            "2              900          N   Normal                  S    -20.517992   \n",
            "3              900          N   Normal                  S    -20.453648   \n",
            "4              901          N   Normal                  S    -20.516981   \n",
            "\n",
            "   COD_LONGITUDE         BAIRRO  \n",
            "0     -54.634308       Sobrinho  \n",
            "1     -54.602621  Alves Pereira  \n",
            "2     -54.605950      Pioneiros  \n",
            "3     -54.611187         Centro  \n",
            "4     -54.592872  Universitário  \n",
            "\n",
            "[5 rows x 38 columns]\n"
          ]
        }
      ],
      "source": [
        "!pip install geopy\n",
        "\n",
        "from geopy.geocoders import Nominatim\n",
        "\n",
        "# Inicializando o geolocator\n",
        "geolocator = Nominatim(user_agent=\"data_user\")\n",
        "\n",
        "# Função para obter bairro a partir de latitude e longitude\n",
        "def obter_bairro(row):\n",
        "    coordenadas = f\"{row['COD_LATITUDE']}, {row['COD_LONGITUDE']}\"\n",
        "    localizacao = geolocator.reverse(coordenadas, exactly_one=True, language='pt-BR')\n",
        "    if localizacao:\n",
        "        endereco = localizacao.raw['address']\n",
        "        bairro = endereco.get('suburb', 'Não encontrado')\n",
        "    else:\n",
        "        bairro = 'Não encontrado'\n",
        "    return bairro\n",
        "\n",
        "# Aplicando a função para criar a nova coluna\n",
        "dados_geral['BAIRRO'] = dados_geral.apply(obter_bairro, axis=1)\n",
        "\n",
        "# Visualizando o resultado\n",
        "print(dados_geral.head())"
      ]
    },
    {
      "cell_type": "code",
      "execution_count": 9,
      "metadata": {
        "id": "m_W3B8kRlj0H"
      },
      "outputs": [],
      "source": [
        "#import pandas as pd\n",
        "\n",
        "#pd.set_option('display.max_rows', None)\n",
        "#dados_geral"
      ]
    },
    {
      "cell_type": "markdown",
      "source": [
        "## 3. Inferir bairros e coluna de bairros"
      ],
      "metadata": {
        "id": "_XwHqVhD3NHL"
      }
    },
    {
      "cell_type": "markdown",
      "source": [
        "O dicionário bairro_para_regiao mapeia bairros para suas respectivas regiões urbanas de Campo Grande, facilitando a associação automática de bairros a grandes áreas urbanas predefinidas."
      ],
      "metadata": {
        "id": "EJzu_Yie5f-X"
      }
    },
    {
      "cell_type": "code",
      "execution_count": 10,
      "metadata": {
        "id": "9Hf5qxNLGUdW"
      },
      "outputs": [],
      "source": [
        "# Dicionário de correspondência entre bairros e regiões urbanas\n",
        "bairro_para_regiao = {\n",
        "    # Imbirussú\n",
        "    'Núcleo Industrial': 'Imbirussú',\n",
        "    'Nova Campo Grande': 'Imbirussú',\n",
        "    'Popular': 'Imbirussú',\n",
        "    'Panamá': 'Imbirussú',\n",
        "    'Santo Antônio': 'Imbirussú',\n",
        "    'Santo Amaro': 'Imbirussú',\n",
        "    'Sobrinho': 'Imbirussú',\n",
        "\n",
        "    # Lagoa\n",
        "    'Caiobá': 'Lagoa',\n",
        "    'Tarumã': 'Lagoa',\n",
        "    'Coophavillas': 'Lagoa',\n",
        "    'Batistão': 'Lagoa',\n",
        "    'Tijuca': 'Lagoa',\n",
        "    'Leblon': 'Lagoa',\n",
        "    'São Conrado': 'Lagoa',\n",
        "    'União': 'Lagoa',\n",
        "    'Caiçara': 'Lagoa',\n",
        "    'Taveirópolis': 'Lagoa',\n",
        "    'Bandeirantes': 'Lagoa',\n",
        "\n",
        "    # Anhanduizinho\n",
        "    'Centro Oeste': 'Anhanduizinho',\n",
        "    'Los Angeles': 'Anhanduizinho',\n",
        "    'Lageado': 'Anhanduizinho',\n",
        "    'Centenário': 'Anhanduizinho',\n",
        "    'Alves Pereira': 'Anhanduizinho',\n",
        "    'Pioneiros': 'Anhanduizinho',\n",
        "    'Aero Rancho': 'Anhanduizinho',\n",
        "    'Parati': 'Anhanduizinho',\n",
        "    'Guanandi': 'Anhanduizinho',\n",
        "    'Piratininga': 'Anhanduizinho',\n",
        "    'Jacy': 'Anhanduizinho',\n",
        "    'Jockey Clube': 'Anhanduizinho',\n",
        "    'Jardim América': 'Anhanduizinho',\n",
        "    'América': 'Anhanduizinho',\n",
        "\n",
        "    # Bandeira\n",
        "    'Moreninha': 'Bandeira',\n",
        "    'Universitário': 'Bandeira',\n",
        "    'Rita Vieira': 'Bandeira',\n",
        "    'Jardim Paulista': 'Bandeira',\n",
        "    'TV Morena': 'Bandeira',\n",
        "    'Vilasboas': 'Bandeira',\n",
        "    'São Lourenço': 'Bandeira',\n",
        "    'Tiradentes': 'Bandeira',\n",
        "    'Maria Aparecida Pedrossian': 'Bandeira',\n",
        "    'Carlota': 'Bandeira',\n",
        "    'Dr. Albuquerque': 'Bandeira',\n",
        "\n",
        "    # Centro\n",
        "    'Centro': 'Centro',\n",
        "    'São Francisco': 'Centro',\n",
        "    'Cruzeiro': 'Centro',\n",
        "    'Jardim dos Estados': 'Centro',\n",
        "    'Bela Vista': 'Centro',\n",
        "    'Itanhangá': 'Centro',\n",
        "    'São Bento': 'Centro',\n",
        "    'Monte Líbano': 'Centro',\n",
        "    'Glória': 'Centro',\n",
        "    'Carvalho': 'Centro',\n",
        "    'Amambaí': 'Centro',\n",
        "    'Cabreúva': 'Centro',\n",
        "    'Planalto': 'Centro',\n",
        "\n",
        "    # Segredo\n",
        "    'José Abrão': 'Segredo',\n",
        "    'Nasser': 'Segredo',\n",
        "    'Seminário': 'Segredo',\n",
        "    'Monte Castelo': 'Segredo',\n",
        "    'Mata do Segredo': 'Segredo',\n",
        "    'Coronel Antonino': 'Segredo',\n",
        "    'Nova Lima': 'Segredo',\n",
        "\n",
        "    # Prosa\n",
        "    'Autonomista': 'Prosa',\n",
        "    'Santa Fé': 'Prosa',\n",
        "    'Chácara Cachoeira': 'Prosa',\n",
        "    'Carandá': 'Prosa',\n",
        "    'Margarida': 'Prosa',\n",
        "    'Mata do Jacinto': 'Prosa',\n",
        "    'Novos Estados': 'Prosa',\n",
        "    'Estrela Dalva': 'Prosa',\n",
        "    'Veraneio': 'Prosa',\n",
        "    'Chácara dos Poderes': 'Prosa',\n",
        "    'Noroeste': 'Prosa'\n",
        "}\n"
      ]
    },
    {
      "cell_type": "markdown",
      "source": [
        "A função abaixo recebe uma linha do DataFrame, extrai o bairro e retorna a região urbana correspondente a partir do dicionário."
      ],
      "metadata": {
        "id": "pJaxBEBY6fUz"
      }
    },
    {
      "cell_type": "code",
      "execution_count": 11,
      "metadata": {
        "colab": {
          "base_uri": "https://localhost:8080/"
        },
        "id": "b-JSduAUGgma",
        "outputId": "2f15454f-bc76-4882-9dbd-b254aeedf159"
      },
      "outputs": [
        {
          "output_type": "stream",
          "name": "stdout",
          "text": [
            "   Unnamed: 0  EMP_CODIGO  REFERENCIA  COD_GRUPO  COD_SETOR_COMERCIAL  \\\n",
            "0           0           2  2024-05-01          4                   17   \n",
            "1           1           2  2024-06-01          4                   87   \n",
            "2           2           2  2024-07-01         14                   85   \n",
            "3           3           2  2024-03-01          8                    5   \n",
            "4           4           2  2024-01-01         12                   88   \n",
            "\n",
            "   NUM_QUADRA  COD_ROTA_LEITURA  MATRICULA  SEQ_RESPONSAVEL  ECO_RESIDENCIAL  \\\n",
            "0          16                11   17188010           581756                0   \n",
            "1          60                38   17424465           188809                1   \n",
            "2         314                 9   17857770           454315                1   \n",
            "3         112                25   17702922           311133                0   \n",
            "4         284                43   17719490           735648                1   \n",
            "\n",
            "   ...  VOLUME_ESTIMADO_ACUM  FATURADO_MEDIA  COD_LEITURA_INT  STA_TROCA  \\\n",
            "0  ...                     0             NaN              901          N   \n",
            "1  ...                     0             NaN              900          N   \n",
            "2  ...                     0             NaN              900          N   \n",
            "3  ...                     0             NaN              900          N   \n",
            "4  ...                     0             NaN              901          N   \n",
            "\n",
            "   EXCECAO  STA_ACEITA_LEITURA COD_LATITUDE  COD_LONGITUDE         BAIRRO  \\\n",
            "0   Normal                   S   -20.460904     -54.634308       Sobrinho   \n",
            "1   Normal                   S   -20.520205     -54.602621  Alves Pereira   \n",
            "2   Normal                   S   -20.517992     -54.605950      Pioneiros   \n",
            "3   Normal                   S   -20.453648     -54.611187         Centro   \n",
            "4   Normal                   S   -20.516981     -54.592872  Universitário   \n",
            "\n",
            "   REGIAO URBANA  \n",
            "0      Imbirussú  \n",
            "1  Anhanduizinho  \n",
            "2  Anhanduizinho  \n",
            "3         Centro  \n",
            "4       Bandeira  \n",
            "\n",
            "[5 rows x 39 columns]\n"
          ]
        }
      ],
      "source": [
        "# Função para obter a região urbana a partir do bairro\n",
        "def obter_regiao_urbana(row):\n",
        "    bairro = row['BAIRRO']\n",
        "    return bairro_para_regiao.get(bairro, 'Não encontrado')\n",
        "\n",
        "# Aplicando a função para criar a nova coluna REGIAO URBANA\n",
        "dados_geral['REGIAO URBANA'] = dados_geral.apply(obter_regiao_urbana, axis=1)\n",
        "\n",
        "# Visualizando o resultado\n",
        "print(dados_geral.head())"
      ]
    }
  ],
  "metadata": {
    "colab": {
      "provenance": []
    },
    "kernelspec": {
      "display_name": "Python 3",
      "name": "python3"
    },
    "language_info": {
      "name": "python"
    }
  },
  "nbformat": 4,
  "nbformat_minor": 0
}